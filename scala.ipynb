{
  "nbformat": 4,
  "nbformat_minor": 0,
  "metadata": {
    "colab": {
      "provenance": []
    },
    "kernelspec": {
      "name": "python3",
      "display_name": "Python 3"
    },
    "language_info": {
      "name": "python"
    }
  },
  "cells": [
    {
      "cell_type": "code",
      "source": [
        "#scala code\n",
        "\n",
        "object HelloWorld {\n",
        "    def main(args: Array[String]): Unit = {\n",
        "        printIn(\"Hello, World!\")\n",
        "    }\n",
        "}\n",
        "\n",
        "#save as --> HellowWorld.scala \n",
        "\n",
        "#open terminal-->then type--> scalac HelloWorld.scala  \n",
        "#this will get compiled then \n",
        "#to run--> scala HellowWorld"
      ],
      "metadata": {
        "id": "VPRw7LmN_4ua"
      },
      "execution_count": null,
      "outputs": []
    },
    {
      "cell_type": "code",
      "source": [],
      "metadata": {
        "id": "jLW-yyu7BRL0"
      },
      "execution_count": null,
      "outputs": []
    }
  ]
}