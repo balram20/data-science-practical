{
  "nbformat": 4,
  "nbformat_minor": 0,
  "metadata": {
    "colab": {
      "provenance": []
    },
    "kernelspec": {
      "name": "python3",
      "display_name": "Python 3"
    },
    "language_info": {
      "name": "python"
    }
  },
  "cells": [
    {
      "cell_type": "code",
      "source": [
        "CREATE DATABASE mydatabase;\n",
        "\n",
        "CREATE TABLE mydatabase.mytable (\n",
        "    id INT,\n",
        "    name STRING,\n",
        "    age INT\n",
        ");\n",
        "\n",
        "INSERT INTO mydatabase.mytable (id, name, age)\n",
        "VALUES\n",
        "  (1, 'Tom Cat', 20)\n",
        "  (2, 'john cena', 25);\n",
        "\n",
        "SELECT * FROM mydatabase.mytable;\n",
        "\n",
        "SELECT name, age FROM mydatabase.mytable WHERE age > 20;\n"
      ],
      "metadata": {
        "id": "jLW-yyu7BRL0"
      },
      "execution_count": null,
      "outputs": []
    }
  ]
}