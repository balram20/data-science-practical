{
 "cells": [
  {
   "cell_type": "code",
   "execution_count": 1,
   "id": "b10e427a",
   "metadata": {},
   "outputs": [],
   "source": [
    "import pandas as pd\n",
    "import numpy as np"
   ]
  },
  {
   "cell_type": "code",
   "execution_count": 2,
   "id": "26fad828",
   "metadata": {},
   "outputs": [],
   "source": [
    "# Create a small dataset with null values and outliers\n",
    "data = {'Name': ['Alice', 'Bob', 'Charlie', 'David', 'Emily', 'Frank', 'George', 'Hannah', 'Isabella', 'Jack', 'Hrushikesh'],\n",
    "        'Age': [25, 30, np.nan, 40, 50, 55, 60, 65, np.nan, 75, 2300],\n",
    "        'Grade': [85, 90, 95, 100, 105, 110, 120, np.nan, 135, 140, 2000]}"
   ]
  },
  {
   "cell_type": "code",
   "execution_count": 3,
   "id": "ccf516fb",
   "metadata": {},
   "outputs": [],
   "source": [
    "df = pd.DataFrame(data)"
   ]
  },
  {
   "cell_type": "code",
   "execution_count": 4,
   "id": "df623ccd",
   "metadata": {},
   "outputs": [
    {
     "data": {
      "text/html": [
       "<div>\n",
       "<style scoped>\n",
       "    .dataframe tbody tr th:only-of-type {\n",
       "        vertical-align: middle;\n",
       "    }\n",
       "\n",
       "    .dataframe tbody tr th {\n",
       "        vertical-align: top;\n",
       "    }\n",
       "\n",
       "    .dataframe thead th {\n",
       "        text-align: right;\n",
       "    }\n",
       "</style>\n",
       "<table border=\"1\" class=\"dataframe\">\n",
       "  <thead>\n",
       "    <tr style=\"text-align: right;\">\n",
       "      <th></th>\n",
       "      <th>Name</th>\n",
       "      <th>Age</th>\n",
       "      <th>Grade</th>\n",
       "    </tr>\n",
       "  </thead>\n",
       "  <tbody>\n",
       "    <tr>\n",
       "      <th>0</th>\n",
       "      <td>Alice</td>\n",
       "      <td>25.0</td>\n",
       "      <td>85.0</td>\n",
       "    </tr>\n",
       "    <tr>\n",
       "      <th>1</th>\n",
       "      <td>Bob</td>\n",
       "      <td>30.0</td>\n",
       "      <td>90.0</td>\n",
       "    </tr>\n",
       "    <tr>\n",
       "      <th>2</th>\n",
       "      <td>Charlie</td>\n",
       "      <td>NaN</td>\n",
       "      <td>95.0</td>\n",
       "    </tr>\n",
       "    <tr>\n",
       "      <th>3</th>\n",
       "      <td>David</td>\n",
       "      <td>40.0</td>\n",
       "      <td>100.0</td>\n",
       "    </tr>\n",
       "    <tr>\n",
       "      <th>4</th>\n",
       "      <td>Emily</td>\n",
       "      <td>50.0</td>\n",
       "      <td>105.0</td>\n",
       "    </tr>\n",
       "    <tr>\n",
       "      <th>5</th>\n",
       "      <td>Frank</td>\n",
       "      <td>55.0</td>\n",
       "      <td>110.0</td>\n",
       "    </tr>\n",
       "    <tr>\n",
       "      <th>6</th>\n",
       "      <td>George</td>\n",
       "      <td>60.0</td>\n",
       "      <td>120.0</td>\n",
       "    </tr>\n",
       "    <tr>\n",
       "      <th>7</th>\n",
       "      <td>Hannah</td>\n",
       "      <td>65.0</td>\n",
       "      <td>NaN</td>\n",
       "    </tr>\n",
       "    <tr>\n",
       "      <th>8</th>\n",
       "      <td>Isabella</td>\n",
       "      <td>NaN</td>\n",
       "      <td>135.0</td>\n",
       "    </tr>\n",
       "    <tr>\n",
       "      <th>9</th>\n",
       "      <td>Jack</td>\n",
       "      <td>75.0</td>\n",
       "      <td>140.0</td>\n",
       "    </tr>\n",
       "    <tr>\n",
       "      <th>10</th>\n",
       "      <td>Hrushikesh</td>\n",
       "      <td>2300.0</td>\n",
       "      <td>2000.0</td>\n",
       "    </tr>\n",
       "  </tbody>\n",
       "</table>\n",
       "</div>"
      ],
      "text/plain": [
       "          Name     Age   Grade\n",
       "0        Alice    25.0    85.0\n",
       "1          Bob    30.0    90.0\n",
       "2      Charlie     NaN    95.0\n",
       "3        David    40.0   100.0\n",
       "4        Emily    50.0   105.0\n",
       "5        Frank    55.0   110.0\n",
       "6       George    60.0   120.0\n",
       "7       Hannah    65.0     NaN\n",
       "8     Isabella     NaN   135.0\n",
       "9         Jack    75.0   140.0\n",
       "10  Hrushikesh  2300.0  2000.0"
      ]
     },
     "execution_count": 4,
     "metadata": {},
     "output_type": "execute_result"
    }
   ],
   "source": [
    "df\n"
   ]
  },
  {
   "cell_type": "code",
   "execution_count": 5,
   "id": "abd0cdc7",
   "metadata": {},
   "outputs": [
    {
     "name": "stdout",
     "output_type": "stream",
     "text": [
      "Name     0\n",
      "Age      2\n",
      "Grade    1\n",
      "dtype: int64\n",
      "          Name     Age   Grade\n",
      "0        Alice    25.0    85.0\n",
      "1          Bob    30.0    90.0\n",
      "2      Charlie   300.0    95.0\n",
      "3        David    40.0   100.0\n",
      "4        Emily    50.0   105.0\n",
      "5        Frank    55.0   110.0\n",
      "6       George    60.0   120.0\n",
      "7       Hannah    65.0     NaN\n",
      "8     Isabella   300.0   135.0\n",
      "9         Jack    75.0   140.0\n",
      "10  Hrushikesh  2300.0  2000.0\n"
     ]
    }
   ],
   "source": [
    "# Scan all variables for missing values and inconsistencies\n",
    "print(df.isnull().sum())  # Check for null values\n",
    "df['Age'].fillna(df['Age'].mean(), inplace=True)  # Replace null values with mean age\n",
    "print(df)  # Check for inconsistencies"
   ]
  },
  {
   "cell_type": "code",
   "execution_count": 6,
   "id": "63cf7cd5",
   "metadata": {},
   "outputs": [
    {
     "name": "stdout",
     "output_type": "stream",
     "text": [
      "Upper Bound: 183.75\n",
      "Lower Bound: 43.75\n"
     ]
    }
   ],
   "source": [
    "# Scan all numeric variables for outliers\n",
    "q1 = df['Grade'].quantile(0.25)\n",
    "q3 = df['Grade'].quantile(0.75)\n",
    "iqr = q3 - q1\n",
    "lower_bound = q1 - 1.5 * iqr\n",
    "upper_bound = q3 + 1.5 * iqr\n",
    "df = df[(df['Grade'] > lower_bound) & (df['Grade'] < upper_bound)]  # Remove outliers\n",
    "print(f\"Upper Bound: {upper_bound}\")\n",
    "print(f\"Lower Bound: {lower_bound}\")"
   ]
  },
  {
   "cell_type": "code",
   "execution_count": 9,
   "id": "472bd420",
   "metadata": {},
   "outputs": [
    {
     "name": "stderr",
     "output_type": "stream",
     "text": [
      "C:\\Users\\balra\\AppData\\Local\\Temp\\ipykernel_13600\\2598937520.py:2: SettingWithCopyWarning: \n",
      "A value is trying to be set on a copy of a slice from a DataFrame.\n",
      "Try using .loc[row_indexer,col_indexer] = value instead\n",
      "\n",
      "See the caveats in the documentation: https://pandas.pydata.org/pandas-docs/stable/user_guide/indexing.html#returning-a-view-versus-a-copy\n",
      "  df['Grade_sqrt'] = np.sqrt(df['Grade'])  # Apply square root transformation to Grade variable\n"
     ]
    }
   ],
   "source": [
    "# Apply data transformations on at least one of the variables\n",
    "df['Grade_sqrt'] = np.sqrt(df['Grade'])  # Apply square root transformation to Grade variable"
   ]
  },
  {
   "cell_type": "code",
   "execution_count": 8,
   "id": "6b24410e",
   "metadata": {},
   "outputs": [
    {
     "name": "stdout",
     "output_type": "stream",
     "text": [
      "       Name    Age  Grade  Grade_sqrt\n",
      "0     Alice   25.0   85.0    9.219544\n",
      "1       Bob   30.0   90.0    9.486833\n",
      "2   Charlie  300.0   95.0    9.746794\n",
      "3     David   40.0  100.0   10.000000\n",
      "4     Emily   50.0  105.0   10.246951\n",
      "5     Frank   55.0  110.0   10.488088\n",
      "6    George   60.0  120.0   10.954451\n",
      "8  Isabella  300.0  135.0   11.618950\n",
      "9      Jack   75.0  140.0   11.832160\n"
     ]
    }
   ],
   "source": [
    "print(df)  # Print final dataset"
   ]
  },
  {
   "cell_type": "code",
   "execution_count": null,
   "id": "266348a4",
   "metadata": {},
   "outputs": [],
   "source": []
  }
 ],
 "metadata": {
  "kernelspec": {
   "display_name": "Python 3 (ipykernel)",
   "language": "python",
   "name": "python3"
  },
  "language_info": {
   "codemirror_mode": {
    "name": "ipython",
    "version": 3
   },
   "file_extension": ".py",
   "mimetype": "text/x-python",
   "name": "python",
   "nbconvert_exporter": "python",
   "pygments_lexer": "ipython3",
   "version": "3.9.13"
  }
 },
 "nbformat": 4,
 "nbformat_minor": 5
}
